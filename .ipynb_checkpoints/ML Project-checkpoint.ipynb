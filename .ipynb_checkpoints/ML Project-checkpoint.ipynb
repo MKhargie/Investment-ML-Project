{
 "cells": [
  {
   "cell_type": "markdown",
   "id": "b3961109-44bd-461a-8319-ae131695425e",
   "metadata": {},
   "source": [
    "ML Project"
   ]
  },
  {
   "cell_type": "markdown",
   "id": "b3ecd59c-dab4-481e-8ce5-1c00738632cf",
   "metadata": {},
   "source": [
    "Steps:\n",
    "1. Get the Data, currently attempting redfin as zillow does not have granularity needed\n",
    "   - Redfin did not have data at granularity either\n",
    "   - \n",
    "3. Explore the Data\n",
    "4. Clean/Pre Process the Data if needed\n",
    "\n",
    "5. Attempt Linear regression"
   ]
  },
  {
   "cell_type": "code",
   "execution_count": null,
   "id": "5cb76e5f-e1db-458f-9340-e1aebda55b23",
   "metadata": {},
   "outputs": [],
   "source": []
  }
 ],
 "metadata": {
  "kernelspec": {
   "display_name": "Python 3 (ipykernel)",
   "language": "python",
   "name": "python3"
  },
  "language_info": {
   "codemirror_mode": {
    "name": "ipython",
    "version": 3
   },
   "file_extension": ".py",
   "mimetype": "text/x-python",
   "name": "python",
   "nbconvert_exporter": "python",
   "pygments_lexer": "ipython3",
   "version": "3.11.2"
  }
 },
 "nbformat": 4,
 "nbformat_minor": 5
}
