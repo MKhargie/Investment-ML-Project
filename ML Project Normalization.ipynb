{
 "cells": [
  {
   "cell_type": "markdown",
   "id": "b3961109-44bd-461a-8319-ae131695425e",
   "metadata": {},
   "source": [
    "ML Project"
   ]
  },
  {
   "cell_type": "markdown",
   "id": "b3ecd59c-dab4-481e-8ce5-1c00738632cf",
   "metadata": {},
   "source": [
    "Steps:\n",
    "1. Get the Data, currently attempting redfin as zillow does not have granularity needed\n",
    "   - Redfin did not have data at granularity either\n",
    "   - Using https://www.kaggle.com/datasets/ahmedshahriarsakib/usa-real-estate-dataset for now\n",
    "3. Explore the Data\n",
    "4. Clean/Pre Process the Data if needed\n",
    "\n",
    "5. Attempt Linear regression"
   ]
  },
  {
   "cell_type": "markdown",
   "id": "5c678ce0-e01b-464f-bcdf-9fe0d8011abc",
   "metadata": {},
   "source": [
    "Loading Libaries and Creating function to load dataset"
   ]
  },
  {
   "cell_type": "code",
   "execution_count": 1,
   "id": "5cb76e5f-e1db-458f-9340-e1aebda55b23",
   "metadata": {},
   "outputs": [],
   "source": [
    "import pandas as pd\n",
    "import os\n",
    "\n",
    "HOUSING_PATH = \"Data\"\n",
    "def load_housing_data(housing_path=HOUSING_PATH):\n",
    "    csv_path = os.path.join(housing_path, \"realtor-data.zip.csv\")\n",
    "    return pd.read_csv(csv_path)\n"
   ]
  },
  {
   "cell_type": "markdown",
   "id": "56ab5c94-3b45-4f40-8504-00aa2ca4bf75",
   "metadata": {},
   "source": [
    "Loading Dataset by calling function and peaking at data"
   ]
  },
  {
   "cell_type": "code",
   "execution_count": 319,
   "id": "7b8cf189-4690-4f94-9457-70401a505bf1",
   "metadata": {},
   "outputs": [
    {
     "data": {
      "text/html": [
       "<div>\n",
       "<style scoped>\n",
       "    .dataframe tbody tr th:only-of-type {\n",
       "        vertical-align: middle;\n",
       "    }\n",
       "\n",
       "    .dataframe tbody tr th {\n",
       "        vertical-align: top;\n",
       "    }\n",
       "\n",
       "    .dataframe thead th {\n",
       "        text-align: right;\n",
       "    }\n",
       "</style>\n",
       "<table border=\"1\" class=\"dataframe\">\n",
       "  <thead>\n",
       "    <tr style=\"text-align: right;\">\n",
       "      <th></th>\n",
       "      <th>status</th>\n",
       "      <th>bed</th>\n",
       "      <th>bath</th>\n",
       "      <th>acre_lot</th>\n",
       "      <th>city</th>\n",
       "      <th>state</th>\n",
       "      <th>zip_code</th>\n",
       "      <th>house_size</th>\n",
       "      <th>prev_sold_date</th>\n",
       "      <th>price</th>\n",
       "    </tr>\n",
       "  </thead>\n",
       "  <tbody>\n",
       "    <tr>\n",
       "      <th>0</th>\n",
       "      <td>for_sale</td>\n",
       "      <td>3.0</td>\n",
       "      <td>2.0</td>\n",
       "      <td>0.12</td>\n",
       "      <td>Adjuntas</td>\n",
       "      <td>Puerto Rico</td>\n",
       "      <td>601.0</td>\n",
       "      <td>920.0</td>\n",
       "      <td>NaN</td>\n",
       "      <td>105000.0</td>\n",
       "    </tr>\n",
       "    <tr>\n",
       "      <th>1</th>\n",
       "      <td>for_sale</td>\n",
       "      <td>4.0</td>\n",
       "      <td>2.0</td>\n",
       "      <td>0.08</td>\n",
       "      <td>Adjuntas</td>\n",
       "      <td>Puerto Rico</td>\n",
       "      <td>601.0</td>\n",
       "      <td>1527.0</td>\n",
       "      <td>NaN</td>\n",
       "      <td>80000.0</td>\n",
       "    </tr>\n",
       "    <tr>\n",
       "      <th>2</th>\n",
       "      <td>for_sale</td>\n",
       "      <td>2.0</td>\n",
       "      <td>1.0</td>\n",
       "      <td>0.15</td>\n",
       "      <td>Juana Diaz</td>\n",
       "      <td>Puerto Rico</td>\n",
       "      <td>795.0</td>\n",
       "      <td>748.0</td>\n",
       "      <td>NaN</td>\n",
       "      <td>67000.0</td>\n",
       "    </tr>\n",
       "    <tr>\n",
       "      <th>3</th>\n",
       "      <td>for_sale</td>\n",
       "      <td>4.0</td>\n",
       "      <td>2.0</td>\n",
       "      <td>0.10</td>\n",
       "      <td>Ponce</td>\n",
       "      <td>Puerto Rico</td>\n",
       "      <td>731.0</td>\n",
       "      <td>1800.0</td>\n",
       "      <td>NaN</td>\n",
       "      <td>145000.0</td>\n",
       "    </tr>\n",
       "    <tr>\n",
       "      <th>4</th>\n",
       "      <td>for_sale</td>\n",
       "      <td>6.0</td>\n",
       "      <td>2.0</td>\n",
       "      <td>0.05</td>\n",
       "      <td>Mayaguez</td>\n",
       "      <td>Puerto Rico</td>\n",
       "      <td>680.0</td>\n",
       "      <td>NaN</td>\n",
       "      <td>NaN</td>\n",
       "      <td>65000.0</td>\n",
       "    </tr>\n",
       "  </tbody>\n",
       "</table>\n",
       "</div>"
      ],
      "text/plain": [
       "     status  bed  bath  acre_lot        city        state  zip_code  \\\n",
       "0  for_sale  3.0   2.0      0.12    Adjuntas  Puerto Rico     601.0   \n",
       "1  for_sale  4.0   2.0      0.08    Adjuntas  Puerto Rico     601.0   \n",
       "2  for_sale  2.0   1.0      0.15  Juana Diaz  Puerto Rico     795.0   \n",
       "3  for_sale  4.0   2.0      0.10       Ponce  Puerto Rico     731.0   \n",
       "4  for_sale  6.0   2.0      0.05    Mayaguez  Puerto Rico     680.0   \n",
       "\n",
       "   house_size prev_sold_date     price  \n",
       "0       920.0            NaN  105000.0  \n",
       "1      1527.0            NaN   80000.0  \n",
       "2       748.0            NaN   67000.0  \n",
       "3      1800.0            NaN  145000.0  \n",
       "4         NaN            NaN   65000.0  "
      ]
     },
     "execution_count": 319,
     "metadata": {},
     "output_type": "execute_result"
    }
   ],
   "source": [
    "housing = load_housing_data()\n",
    "housing.head()"
   ]
  },
  {
   "cell_type": "markdown",
   "id": "e955b7fe-edff-4e09-ae15-de2ae33af997",
   "metadata": {},
   "source": [
    "Exploring Data"
   ]
  },
  {
   "cell_type": "code",
   "execution_count": 42,
   "id": "79cf2d09-f829-45ff-8d2a-b21f9f4f5073",
   "metadata": {},
   "outputs": [
    {
     "name": "stdout",
     "output_type": "stream",
     "text": [
      "<class 'pandas.core.frame.DataFrame'>\n",
      "RangeIndex: 904966 entries, 0 to 904965\n",
      "Data columns (total 10 columns):\n",
      " #   Column          Non-Null Count   Dtype  \n",
      "---  ------          --------------   -----  \n",
      " 0   status          904966 non-null  object \n",
      " 1   bed             775126 non-null  float64\n",
      " 2   bath            791082 non-null  float64\n",
      " 3   acre_lot        638324 non-null  float64\n",
      " 4   city            904894 non-null  object \n",
      " 5   state           904966 non-null  object \n",
      " 6   zip_code        904762 non-null  float64\n",
      " 7   house_size      612080 non-null  float64\n",
      " 8   prev_sold_date  445865 non-null  object \n",
      " 9   price           904895 non-null  float64\n",
      "dtypes: float64(6), object(4)\n",
      "memory usage: 69.0+ MB\n"
     ]
    }
   ],
   "source": [
    "housing.info()"
   ]
  },
  {
   "cell_type": "markdown",
   "id": "d8f0d478-6964-43eb-b5a9-5a9e43542944",
   "metadata": {},
   "source": [
    "Null Counts:\n",
    "<br>Bed and Bath (Maybe this is for land sales)\n",
    "<br>Acre_lot (???)\n",
    "<br>house size (Just for land sales?)\n",
    "<br>Prev_sold_date (First time sold?, new contructions)"
   ]
  },
  {
   "cell_type": "code",
   "execution_count": 336,
   "id": "cd4bc4d3-6c3b-4182-96a8-025e4f91bf7a",
   "metadata": {},
   "outputs": [
    {
     "data": {
      "text/html": [
       "<div>\n",
       "<style scoped>\n",
       "    .dataframe tbody tr th:only-of-type {\n",
       "        vertical-align: middle;\n",
       "    }\n",
       "\n",
       "    .dataframe tbody tr th {\n",
       "        vertical-align: top;\n",
       "    }\n",
       "\n",
       "    .dataframe thead th {\n",
       "        text-align: right;\n",
       "    }\n",
       "</style>\n",
       "<table border=\"1\" class=\"dataframe\">\n",
       "  <thead>\n",
       "    <tr style=\"text-align: right;\">\n",
       "      <th></th>\n",
       "      <th>status</th>\n",
       "      <th>bed</th>\n",
       "      <th>bath</th>\n",
       "      <th>acre_lot</th>\n",
       "      <th>city</th>\n",
       "      <th>state</th>\n",
       "      <th>zip_code</th>\n",
       "      <th>house_size</th>\n",
       "      <th>prev_sold_date</th>\n",
       "      <th>price</th>\n",
       "    </tr>\n",
       "  </thead>\n",
       "  <tbody>\n",
       "    <tr>\n",
       "      <th>30149</th>\n",
       "      <td>for_sale</td>\n",
       "      <td>3.0</td>\n",
       "      <td>1.0</td>\n",
       "      <td>60.00</td>\n",
       "      <td>Berlin</td>\n",
       "      <td>New York</td>\n",
       "      <td>12022.0</td>\n",
       "      <td>1176.0</td>\n",
       "      <td>NaN</td>\n",
       "      <td>175000.0</td>\n",
       "    </tr>\n",
       "    <tr>\n",
       "      <th>54248</th>\n",
       "      <td>for_sale</td>\n",
       "      <td>3.0</td>\n",
       "      <td>2.0</td>\n",
       "      <td>2.02</td>\n",
       "      <td>Claverack</td>\n",
       "      <td>New York</td>\n",
       "      <td>12521.0</td>\n",
       "      <td>1600.0</td>\n",
       "      <td>2021-11-24</td>\n",
       "      <td>425000.0</td>\n",
       "    </tr>\n",
       "    <tr>\n",
       "      <th>54258</th>\n",
       "      <td>for_sale</td>\n",
       "      <td>4.0</td>\n",
       "      <td>2.0</td>\n",
       "      <td>0.24</td>\n",
       "      <td>Copake</td>\n",
       "      <td>New York</td>\n",
       "      <td>12521.0</td>\n",
       "      <td>1239.0</td>\n",
       "      <td>2018-02-01</td>\n",
       "      <td>225000.0</td>\n",
       "    </tr>\n",
       "    <tr>\n",
       "      <th>54259</th>\n",
       "      <td>for_sale</td>\n",
       "      <td>3.0</td>\n",
       "      <td>3.0</td>\n",
       "      <td>1.90</td>\n",
       "      <td>Copake</td>\n",
       "      <td>New York</td>\n",
       "      <td>12516.0</td>\n",
       "      <td>1800.0</td>\n",
       "      <td>NaN</td>\n",
       "      <td>419000.0</td>\n",
       "    </tr>\n",
       "    <tr>\n",
       "      <th>54262</th>\n",
       "      <td>for_sale</td>\n",
       "      <td>3.0</td>\n",
       "      <td>2.0</td>\n",
       "      <td>2.00</td>\n",
       "      <td>Copake</td>\n",
       "      <td>New York</td>\n",
       "      <td>12517.0</td>\n",
       "      <td>1482.0</td>\n",
       "      <td>NaN</td>\n",
       "      <td>365000.0</td>\n",
       "    </tr>\n",
       "    <tr>\n",
       "      <th>...</th>\n",
       "      <td>...</td>\n",
       "      <td>...</td>\n",
       "      <td>...</td>\n",
       "      <td>...</td>\n",
       "      <td>...</td>\n",
       "      <td>...</td>\n",
       "      <td>...</td>\n",
       "      <td>...</td>\n",
       "      <td>...</td>\n",
       "      <td>...</td>\n",
       "    </tr>\n",
       "    <tr>\n",
       "      <th>904961</th>\n",
       "      <td>for_sale</td>\n",
       "      <td>2.0</td>\n",
       "      <td>2.0</td>\n",
       "      <td>NaN</td>\n",
       "      <td>New York City</td>\n",
       "      <td>New York</td>\n",
       "      <td>10463.0</td>\n",
       "      <td>NaN</td>\n",
       "      <td>2021-08-13</td>\n",
       "      <td>359000.0</td>\n",
       "    </tr>\n",
       "    <tr>\n",
       "      <th>904962</th>\n",
       "      <td>for_sale</td>\n",
       "      <td>2.0</td>\n",
       "      <td>2.0</td>\n",
       "      <td>NaN</td>\n",
       "      <td>Bronx</td>\n",
       "      <td>New York</td>\n",
       "      <td>10463.0</td>\n",
       "      <td>1200.0</td>\n",
       "      <td>NaN</td>\n",
       "      <td>299000.0</td>\n",
       "    </tr>\n",
       "    <tr>\n",
       "      <th>904963</th>\n",
       "      <td>for_sale</td>\n",
       "      <td>NaN</td>\n",
       "      <td>1.0</td>\n",
       "      <td>NaN</td>\n",
       "      <td>Bronx</td>\n",
       "      <td>New York</td>\n",
       "      <td>10463.0</td>\n",
       "      <td>NaN</td>\n",
       "      <td>NaN</td>\n",
       "      <td>120000.0</td>\n",
       "    </tr>\n",
       "    <tr>\n",
       "      <th>904964</th>\n",
       "      <td>for_sale</td>\n",
       "      <td>3.0</td>\n",
       "      <td>2.0</td>\n",
       "      <td>NaN</td>\n",
       "      <td>Bronx</td>\n",
       "      <td>New York</td>\n",
       "      <td>10463.0</td>\n",
       "      <td>NaN</td>\n",
       "      <td>NaN</td>\n",
       "      <td>449000.0</td>\n",
       "    </tr>\n",
       "    <tr>\n",
       "      <th>904965</th>\n",
       "      <td>for_sale</td>\n",
       "      <td>3.0</td>\n",
       "      <td>3.0</td>\n",
       "      <td>NaN</td>\n",
       "      <td>New York City</td>\n",
       "      <td>New York</td>\n",
       "      <td>10463.0</td>\n",
       "      <td>1677.0</td>\n",
       "      <td>2007-06-27</td>\n",
       "      <td>850000.0</td>\n",
       "    </tr>\n",
       "  </tbody>\n",
       "</table>\n",
       "<p>197215 rows × 10 columns</p>\n",
       "</div>"
      ],
      "text/plain": [
       "          status  bed  bath  acre_lot           city     state  zip_code  \\\n",
       "30149   for_sale  3.0   1.0     60.00         Berlin  New York   12022.0   \n",
       "54248   for_sale  3.0   2.0      2.02      Claverack  New York   12521.0   \n",
       "54258   for_sale  4.0   2.0      0.24         Copake  New York   12521.0   \n",
       "54259   for_sale  3.0   3.0      1.90         Copake  New York   12516.0   \n",
       "54262   for_sale  3.0   2.0      2.00         Copake  New York   12517.0   \n",
       "...          ...  ...   ...       ...            ...       ...       ...   \n",
       "904961  for_sale  2.0   2.0       NaN  New York City  New York   10463.0   \n",
       "904962  for_sale  2.0   2.0       NaN          Bronx  New York   10463.0   \n",
       "904963  for_sale  NaN   1.0       NaN          Bronx  New York   10463.0   \n",
       "904964  for_sale  3.0   2.0       NaN          Bronx  New York   10463.0   \n",
       "904965  for_sale  3.0   3.0       NaN  New York City  New York   10463.0   \n",
       "\n",
       "        house_size prev_sold_date     price  \n",
       "30149       1176.0            NaN  175000.0  \n",
       "54248       1600.0     2021-11-24  425000.0  \n",
       "54258       1239.0     2018-02-01  225000.0  \n",
       "54259       1800.0            NaN  419000.0  \n",
       "54262       1482.0            NaN  365000.0  \n",
       "...            ...            ...       ...  \n",
       "904961         NaN     2021-08-13  359000.0  \n",
       "904962      1200.0            NaN  299000.0  \n",
       "904963         NaN            NaN  120000.0  \n",
       "904964         NaN            NaN  449000.0  \n",
       "904965      1677.0     2007-06-27  850000.0  \n",
       "\n",
       "[197215 rows x 10 columns]"
      ]
     },
     "execution_count": 336,
     "metadata": {},
     "output_type": "execute_result"
    }
   ],
   "source": [
    "#Drop all records prices that are null\n",
    "housing = housing.dropna(subset='price')\n",
    "housing = housing[housing['state'] ==('New York')]\n",
    "housing"
   ]
  },
  {
   "cell_type": "markdown",
   "id": "b52d215d-467a-43d6-a1c9-f410c0f309ad",
   "metadata": {},
   "source": [
    "Zip Code - Dimensional Data, therefore mean, std, etc doesn't make sense\n",
    "<br>Bed & Bath - Max values seem strange\n",
    "\n",
    "\n"
   ]
  },
  {
   "cell_type": "markdown",
   "id": "01ab0b2c-2832-4ffe-934a-4f0794b862f6",
   "metadata": {},
   "source": [
    "# Plotting the data"
   ]
  },
  {
   "cell_type": "code",
   "execution_count": 25,
   "id": "aada9cdd-316e-4f94-b783-a7bb2a194663",
   "metadata": {},
   "outputs": [],
   "source": [
    "%matplotlib inline\n",
    "import matplotlib.pyplot as plt"
   ]
  },
  {
   "cell_type": "code",
   "execution_count": 44,
   "id": "881140fa-f8dd-4175-9043-42ccf8fe5699",
   "metadata": {},
   "outputs": [
    {
     "data": {
      "image/png": "[encoded data removed]",
      "text/plain": [
       "<Figure size 2000x1500 with 6 Axes>"
      ]
     },
     "metadata": {},
     "output_type": "display_data"
    }
   ],
   "source": [
    "\n",
    "housing.hist(bins=20, figsize=(20,15))\n",
    "plt.show()"
   ]
  },
  {
   "cell_type": "code",
   "execution_count": 337,
   "id": "7e4bd871-8fc5-4add-bb8c-d163310ed2de",
   "metadata": {},
   "outputs": [],
   "source": [
    "import numpy as np\n",
    "def split_train_test(data, test_ratio):\n",
    " shuffled_indices = np.random.permutation(len(data))\n",
    " test_set_size = int(len(data) * test_ratio)\n",
    " test_indices = shuffled_indices[:test_set_size]\n",
    " train_indices = shuffled_indices[test_set_size:]\n",
    " return data.iloc[train_indices], data.iloc[test_indices]"
   ]
  },
  {
   "cell_type": "code",
   "execution_count": 327,
   "id": "5308c09c-8997-476d-8694-91ccb4b677ec",
   "metadata": {},
   "outputs": [],
   "source": [
    "import numpy as np\n",
    "from sklearn.model_selection import StratifiedShuffleSplit\n",
    "\n",
    "def split_train_test(data, test_ratio, category_column):\n",
    "    # Create an instance of StratifiedShuffleSplit\n",
    "    \n",
    "    stratified_split = StratifiedShuffleSplit(n_splits=1, test_size=test_ratio, random_state=42)\n",
    "    \n",
    "    # Convert the category column to a NumPy array\n",
    "    y = data[category_column].to_numpy()\n",
    "\n",
    "    # Use StratifiedShuffleSplit to generate train and test indices\n",
    "    for train_index, test_index in stratified_split.split(data, y):\n",
    "        train_data = data.iloc[train_index]\n",
    "        test_data = data.iloc[test_index]\n",
    "\n",
    "    return train_data, test_data\n",
    "\n",
    "# Example usage:\n",
    "# train_data, test_data = split_train_test_stratified(data, test_ratio=0.2, category_column='category')"
   ]
  },
  {
   "cell_type": "code",
   "execution_count": 338,
   "id": "4455281b-c5b6-4b78-8e1f-e6281913bdea",
   "metadata": {},
   "outputs": [],
   "source": [
    "train_set, test_set = split_train_test(housing, 0.2)"
   ]
  },
  {
   "cell_type": "code",
   "execution_count": 339,
   "id": "16c6d957-79d1-4f33-a5f5-7e09eccd6b7c",
   "metadata": {},
   "outputs": [
    {
     "data": {
      "text/html": [
       "<div>\n",
       "<style scoped>\n",
       "    .dataframe tbody tr th:only-of-type {\n",
       "        vertical-align: middle;\n",
       "    }\n",
       "\n",
       "    .dataframe tbody tr th {\n",
       "        vertical-align: top;\n",
       "    }\n",
       "\n",
       "    .dataframe thead th {\n",
       "        text-align: right;\n",
       "    }\n",
       "</style>\n",
       "<table border=\"1\" class=\"dataframe\">\n",
       "  <thead>\n",
       "    <tr style=\"text-align: right;\">\n",
       "      <th></th>\n",
       "      <th>bed</th>\n",
       "      <th>bath</th>\n",
       "      <th>acre_lot</th>\n",
       "      <th>zip_code</th>\n",
       "      <th>house_size</th>\n",
       "      <th>price</th>\n",
       "    </tr>\n",
       "  </thead>\n",
       "  <tbody>\n",
       "    <tr>\n",
       "      <th>bed</th>\n",
       "      <td>1.000000</td>\n",
       "      <td>0.805257</td>\n",
       "      <td>-0.008795</td>\n",
       "      <td>0.193951</td>\n",
       "      <td>0.690297</td>\n",
       "      <td>0.194461</td>\n",
       "    </tr>\n",
       "    <tr>\n",
       "      <th>bath</th>\n",
       "      <td>0.805257</td>\n",
       "      <td>1.000000</td>\n",
       "      <td>-0.010651</td>\n",
       "      <td>0.046864</td>\n",
       "      <td>0.772407</td>\n",
       "      <td>0.336024</td>\n",
       "    </tr>\n",
       "    <tr>\n",
       "      <th>acre_lot</th>\n",
       "      <td>-0.008795</td>\n",
       "      <td>-0.010651</td>\n",
       "      <td>1.000000</td>\n",
       "      <td>0.019108</td>\n",
       "      <td>-0.004576</td>\n",
       "      <td>-0.005007</td>\n",
       "    </tr>\n",
       "    <tr>\n",
       "      <th>zip_code</th>\n",
       "      <td>0.193951</td>\n",
       "      <td>0.046864</td>\n",
       "      <td>0.019108</td>\n",
       "      <td>1.000000</td>\n",
       "      <td>0.020902</td>\n",
       "      <td>-0.129127</td>\n",
       "    </tr>\n",
       "    <tr>\n",
       "      <th>house_size</th>\n",
       "      <td>0.690297</td>\n",
       "      <td>0.772407</td>\n",
       "      <td>-0.004576</td>\n",
       "      <td>0.020902</td>\n",
       "      <td>1.000000</td>\n",
       "      <td>0.316799</td>\n",
       "    </tr>\n",
       "    <tr>\n",
       "      <th>price</th>\n",
       "      <td>0.194461</td>\n",
       "      <td>0.336024</td>\n",
       "      <td>-0.005007</td>\n",
       "      <td>-0.129127</td>\n",
       "      <td>0.316799</td>\n",
       "      <td>1.000000</td>\n",
       "    </tr>\n",
       "  </tbody>\n",
       "</table>\n",
       "</div>"
      ],
      "text/plain": [
       "                 bed      bath  acre_lot  zip_code  house_size     price\n",
       "bed         1.000000  0.805257 -0.008795  0.193951    0.690297  0.194461\n",
       "bath        0.805257  1.000000 -0.010651  0.046864    0.772407  0.336024\n",
       "acre_lot   -0.008795 -0.010651  1.000000  0.019108   -0.004576 -0.005007\n",
       "zip_code    0.193951  0.046864  0.019108  1.000000    0.020902 -0.129127\n",
       "house_size  0.690297  0.772407 -0.004576  0.020902    1.000000  0.316799\n",
       "price       0.194461  0.336024 -0.005007 -0.129127    0.316799  1.000000"
      ]
     },
     "execution_count": 339,
     "metadata": {},
     "output_type": "execute_result"
    }
   ],
   "source": [
    "housing = train_set.copy()\n",
    "attributes =[\"bed\", \"bath\", \"acre_lot\", \"zip_code\", \"house_size\", \"price\"]\n",
    "corr_matrix = housing[attributes].corr()\n",
    "corr_matrix"
   ]
  },
  {
   "cell_type": "code",
   "execution_count": 48,
   "id": "aea502a7-68f2-4473-8fdf-469d9de2e82f",
   "metadata": {},
   "outputs": [
    {
     "data": {
      "text/plain": [
       "array([[<Axes: xlabel='bed', ylabel='bed'>,\n",
       "        <Axes: xlabel='bath', ylabel='bed'>,\n",
       "        <Axes: xlabel='acre_lot', ylabel='bed'>,\n",
       "        <Axes: xlabel='zip_code', ylabel='bed'>,\n",
       "        <Axes: xlabel='house_size', ylabel='bed'>,\n",
       "        <Axes: xlabel='price', ylabel='bed'>],\n",
       "       [<Axes: xlabel='bed', ylabel='bath'>,\n",
       "        <Axes: xlabel='bath', ylabel='bath'>,\n",
       "        <Axes: xlabel='acre_lot', ylabel='bath'>,\n",
       "        <Axes: xlabel='zip_code', ylabel='bath'>,\n",
       "        <Axes: xlabel='house_size', ylabel='bath'>,\n",
       "        <Axes: xlabel='price', ylabel='bath'>],\n",
       "       [<Axes: xlabel='bed', ylabel='acre_lot'>,\n",
       "        <Axes: xlabel='bath', ylabel='acre_lot'>,\n",
       "        <Axes: xlabel='acre_lot', ylabel='acre_lot'>,\n",
       "        <Axes: xlabel='zip_code', ylabel='acre_lot'>,\n",
       "        <Axes: xlabel='house_size', ylabel='acre_lot'>,\n",
       "        <Axes: xlabel='price', ylabel='acre_lot'>],\n",
       "       [<Axes: xlabel='bed', ylabel='zip_code'>,\n",
       "        <Axes: xlabel='bath', ylabel='zip_code'>,\n",
       "        <Axes: xlabel='acre_lot', ylabel='zip_code'>,\n",
       "        <Axes: xlabel='zip_code', ylabel='zip_code'>,\n",
       "        <Axes: xlabel='house_size', ylabel='zip_code'>,\n",
       "        <Axes: xlabel='price', ylabel='zip_code'>],\n",
       "       [<Axes: xlabel='bed', ylabel='house_size'>,\n",
       "        <Axes: xlabel='bath', ylabel='house_size'>,\n",
       "        <Axes: xlabel='acre_lot', ylabel='house_size'>,\n",
       "        <Axes: xlabel='zip_code', ylabel='house_size'>,\n",
       "        <Axes: xlabel='house_size', ylabel='house_size'>,\n",
       "        <Axes: xlabel='price', ylabel='house_size'>],\n",
       "       [<Axes: xlabel='bed', ylabel='price'>,\n",
       "        <Axes: xlabel='bath', ylabel='price'>,\n",
       "        <Axes: xlabel='acre_lot', ylabel='price'>,\n",
       "        <Axes: xlabel='zip_code', ylabel='price'>,\n",
       "        <Axes: xlabel='house_size', ylabel='price'>,\n",
       "        <Axes: xlabel='price', ylabel='price'>]], dtype=object)"
      ]
     },
     "execution_count": 48,
     "metadata": {},
     "output_type": "execute_result"
    },
    {
     "data": {
      "image/png": "[encoded data removed]",
      "text/plain": [
       "<Figure size 1200x800 with 36 Axes>"
      ]
     },
     "metadata": {},
     "output_type": "display_data"
    }
   ],
   "source": [
    "from pandas.plotting import scatter_matrix\n",
    "scatter_matrix(housing[attributes], figsize=(12, 8))"
   ]
  },
  {
   "cell_type": "markdown",
   "id": "46db7ab3-f65f-4b0f-ba02-e6b84684e8fb",
   "metadata": {},
   "source": [
    "Deal with Nulls:\n",
    "<br>Bed and Bath: Drop for now (Come back and use house size to determine if a house was sold?)\n"
   ]
  },
  {
   "cell_type": "code",
   "execution_count": 340,
   "id": "8646a646-9d99-4ba7-b3ab-17830b55d9e3",
   "metadata": {},
   "outputs": [],
   "source": [
    "from sklearn.preprocessing import OneHotEncoder\n",
    "\n",
    "\n",
    "def prepare_data(data):\n",
    "    data = data.dropna(subset=['bed','bath'])\n",
    "    data = data[data[\"acre_lot\"] <20000]\n",
    "    data = data.dropna(subset=[\"house_size\"])\n",
    "    data = data.drop(\"status\",axis=1)\n",
    "    data = data.drop(\"city\",axis=1)\n",
    "    data = data.dropna(subset=[\"state\"])\n",
    "    #data = data.drop(\"state\",axis=1)\n",
    "    data = data.drop(\"prev_sold_date\",axis=1)\n",
    "    data = data.drop(\"zip_code\",axis=1)\n",
    "    \n",
    "    \n",
    "    \n",
    "    return data\n",
    "    "
   ]
  },
  {
   "cell_type": "code",
   "execution_count": 341,
   "id": "1c9a6d84-c3cc-4181-82e1-e9dd22bfbf80",
   "metadata": {},
   "outputs": [],
   "source": [
    "def ApplyOneHotEncoder(data,feature):\n",
    "    \n",
    "#one hot encode zip_code\n",
    "    encoder = OneHotEncoder(sparse=False,handle_unknown='ignore')\n",
    "    encoded_data = encoder.fit_transform(data[[feature]])\n",
    "    \n",
    "\n",
    "    encoded_df = pd.DataFrame(encoded_data, columns=encoder.get_feature_names_out([feature]))\n",
    "    \n",
    "    data = pd.concat([data.reset_index(drop=True), encoded_df.reset_index(drop=True)], axis=1)\n",
    "\n",
    "    #data = pd.concat([data, encoded_df], axis=1)\n",
    "    #print(data)\n",
    "    data = data.drop(feature, axis=1)\n",
    "    \n",
    "    return(data)\n",
    "    \n"
   ]
  },
  {
   "cell_type": "markdown",
   "id": "1435d8ee-538d-49e5-a461-5e4add8f9a59",
   "metadata": {},
   "source": [
    "Going to remove all values ~20000 acre size"
   ]
  },
  {
   "cell_type": "markdown",
   "id": "7ac64344-304b-414c-82fb-b92d50d1ec0a",
   "metadata": {},
   "source": [
    "<br>house size: Going to drop records without house size\n"
   ]
  },
  {
   "cell_type": "code",
   "execution_count": 171,
   "id": "21f21b1b-a7db-4deb-ad7c-492f9a751226",
   "metadata": {},
   "outputs": [
    {
     "data": {
      "text/html": [
       "<div>\n",
       "<style scoped>\n",
       "    .dataframe tbody tr th:only-of-type {\n",
       "        vertical-align: middle;\n",
       "    }\n",
       "\n",
       "    .dataframe tbody tr th {\n",
       "        vertical-align: top;\n",
       "    }\n",
       "\n",
       "    .dataframe thead th {\n",
       "        text-align: right;\n",
       "    }\n",
       "</style>\n",
       "<table border=\"1\" class=\"dataframe\">\n",
       "  <thead>\n",
       "    <tr style=\"text-align: right;\">\n",
       "      <th></th>\n",
       "      <th>status</th>\n",
       "      <th>bed</th>\n",
       "      <th>bath</th>\n",
       "      <th>acre_lot</th>\n",
       "      <th>city</th>\n",
       "      <th>state</th>\n",
       "      <th>zip_code</th>\n",
       "      <th>house_size</th>\n",
       "      <th>prev_sold_date</th>\n",
       "      <th>price</th>\n",
       "    </tr>\n",
       "  </thead>\n",
       "  <tbody>\n",
       "    <tr>\n",
       "      <th>65863</th>\n",
       "      <td>for_sale</td>\n",
       "      <td>5.0</td>\n",
       "      <td>5.0</td>\n",
       "      <td>1.46</td>\n",
       "      <td>Great Barrington</td>\n",
       "      <td>Massachusetts</td>\n",
       "      <td>1230.0</td>\n",
       "      <td>3808.0</td>\n",
       "      <td>NaN</td>\n",
       "      <td>829000.0</td>\n",
       "    </tr>\n",
       "    <tr>\n",
       "      <th>708158</th>\n",
       "      <td>for_sale</td>\n",
       "      <td>1.0</td>\n",
       "      <td>1.0</td>\n",
       "      <td>0.01</td>\n",
       "      <td>Lakewood</td>\n",
       "      <td>New Jersey</td>\n",
       "      <td>8701.0</td>\n",
       "      <td>900.0</td>\n",
       "      <td>2018-05-31</td>\n",
       "      <td>137000.0</td>\n",
       "    </tr>\n",
       "    <tr>\n",
       "      <th>822092</th>\n",
       "      <td>for_sale</td>\n",
       "      <td>6.0</td>\n",
       "      <td>3.0</td>\n",
       "      <td>0.04</td>\n",
       "      <td>Bronx</td>\n",
       "      <td>New York</td>\n",
       "      <td>10459.0</td>\n",
       "      <td>2632.0</td>\n",
       "      <td>2004-11-24</td>\n",
       "      <td>725000.0</td>\n",
       "    </tr>\n",
       "    <tr>\n",
       "      <th>119820</th>\n",
       "      <td>for_sale</td>\n",
       "      <td>2.0</td>\n",
       "      <td>2.0</td>\n",
       "      <td>0.22</td>\n",
       "      <td>Methuen</td>\n",
       "      <td>Massachusetts</td>\n",
       "      <td>1844.0</td>\n",
       "      <td>1548.0</td>\n",
       "      <td>NaN</td>\n",
       "      <td>425000.0</td>\n",
       "    </tr>\n",
       "    <tr>\n",
       "      <th>464014</th>\n",
       "      <td>for_sale</td>\n",
       "      <td>NaN</td>\n",
       "      <td>NaN</td>\n",
       "      <td>0.17</td>\n",
       "      <td>Bayonne</td>\n",
       "      <td>New Jersey</td>\n",
       "      <td>7002.0</td>\n",
       "      <td>NaN</td>\n",
       "      <td>NaN</td>\n",
       "      <td>649000.0</td>\n",
       "    </tr>\n",
       "    <tr>\n",
       "      <th>...</th>\n",
       "      <td>...</td>\n",
       "      <td>...</td>\n",
       "      <td>...</td>\n",
       "      <td>...</td>\n",
       "      <td>...</td>\n",
       "      <td>...</td>\n",
       "      <td>...</td>\n",
       "      <td>...</td>\n",
       "      <td>...</td>\n",
       "      <td>...</td>\n",
       "    </tr>\n",
       "    <tr>\n",
       "      <th>530642</th>\n",
       "      <td>for_sale</td>\n",
       "      <td>9.0</td>\n",
       "      <td>3.0</td>\n",
       "      <td>0.10</td>\n",
       "      <td>Paterson</td>\n",
       "      <td>New Jersey</td>\n",
       "      <td>7524.0</td>\n",
       "      <td>NaN</td>\n",
       "      <td>2010-09-07</td>\n",
       "      <td>495000.0</td>\n",
       "    </tr>\n",
       "    <tr>\n",
       "      <th>249693</th>\n",
       "      <td>for_sale</td>\n",
       "      <td>NaN</td>\n",
       "      <td>NaN</td>\n",
       "      <td>7.80</td>\n",
       "      <td>Windham</td>\n",
       "      <td>New Hampshire</td>\n",
       "      <td>3087.0</td>\n",
       "      <td>NaN</td>\n",
       "      <td>NaN</td>\n",
       "      <td>750000.0</td>\n",
       "    </tr>\n",
       "    <tr>\n",
       "      <th>774106</th>\n",
       "      <td>for_sale</td>\n",
       "      <td>1.0</td>\n",
       "      <td>1.0</td>\n",
       "      <td>NaN</td>\n",
       "      <td>Howard Beach</td>\n",
       "      <td>New York</td>\n",
       "      <td>11414.0</td>\n",
       "      <td>NaN</td>\n",
       "      <td>NaN</td>\n",
       "      <td>155900.0</td>\n",
       "    </tr>\n",
       "    <tr>\n",
       "      <th>272784</th>\n",
       "      <td>for_sale</td>\n",
       "      <td>NaN</td>\n",
       "      <td>NaN</td>\n",
       "      <td>0.41</td>\n",
       "      <td>Haverhill</td>\n",
       "      <td>New Hampshire</td>\n",
       "      <td>3785.0</td>\n",
       "      <td>NaN</td>\n",
       "      <td>NaN</td>\n",
       "      <td>15500.0</td>\n",
       "    </tr>\n",
       "    <tr>\n",
       "      <th>539411</th>\n",
       "      <td>for_sale</td>\n",
       "      <td>5.0</td>\n",
       "      <td>3.0</td>\n",
       "      <td>0.05</td>\n",
       "      <td>Newark</td>\n",
       "      <td>New Jersey</td>\n",
       "      <td>7105.0</td>\n",
       "      <td>2610.0</td>\n",
       "      <td>1999-06-30</td>\n",
       "      <td>689000.0</td>\n",
       "    </tr>\n",
       "  </tbody>\n",
       "</table>\n",
       "<p>579179 rows × 10 columns</p>\n",
       "</div>"
      ],
      "text/plain": [
       "          status  bed  bath  acre_lot              city          state  \\\n",
       "65863   for_sale  5.0   5.0      1.46  Great Barrington  Massachusetts   \n",
       "708158  for_sale  1.0   1.0      0.01          Lakewood     New Jersey   \n",
       "822092  for_sale  6.0   3.0      0.04             Bronx       New York   \n",
       "119820  for_sale  2.0   2.0      0.22           Methuen  Massachusetts   \n",
       "464014  for_sale  NaN   NaN      0.17           Bayonne     New Jersey   \n",
       "...          ...  ...   ...       ...               ...            ...   \n",
       "530642  for_sale  9.0   3.0      0.10          Paterson     New Jersey   \n",
       "249693  for_sale  NaN   NaN      7.80           Windham  New Hampshire   \n",
       "774106  for_sale  1.0   1.0       NaN      Howard Beach       New York   \n",
       "272784  for_sale  NaN   NaN      0.41         Haverhill  New Hampshire   \n",
       "539411  for_sale  5.0   3.0      0.05            Newark     New Jersey   \n",
       "\n",
       "        zip_code  house_size prev_sold_date     price  \n",
       "65863     1230.0      3808.0            NaN  829000.0  \n",
       "708158    8701.0       900.0     2018-05-31  137000.0  \n",
       "822092   10459.0      2632.0     2004-11-24  725000.0  \n",
       "119820    1844.0      1548.0            NaN  425000.0  \n",
       "464014    7002.0         NaN            NaN  649000.0  \n",
       "...          ...         ...            ...       ...  \n",
       "530642    7524.0         NaN     2010-09-07  495000.0  \n",
       "249693    3087.0         NaN            NaN  750000.0  \n",
       "774106   11414.0         NaN            NaN  155900.0  \n",
       "272784    3785.0         NaN            NaN   15500.0  \n",
       "539411    7105.0      2610.0     1999-06-30  689000.0  \n",
       "\n",
       "[579179 rows x 10 columns]"
      ]
     },
     "execution_count": 171,
     "metadata": {},
     "output_type": "execute_result"
    }
   ],
   "source": [
    "housing"
   ]
  },
  {
   "cell_type": "code",
   "execution_count": 342,
   "id": "b8d53728-3b89-4e99-9462-28fe4ee3cb03",
   "metadata": {},
   "outputs": [
    {
     "name": "stderr",
     "output_type": "stream",
     "text": [
      "C:\\ML\\env\\Lib\\site-packages\\sklearn\\preprocessing\\_encoders.py:972: FutureWarning: `sparse` was renamed to `sparse_output` in version 1.2 and will be removed in 1.4. `sparse_output` is ignored unless you leave `sparse` to its default value.\n",
      "  warnings.warn(\n"
     ]
    }
   ],
   "source": [
    "prepared_data = prepare_data(housing)\n",
    "prepared_data = ApplyOneHotEncoder(prepared_data,'state')\n",
    "#prepared_data"
   ]
  },
  {
   "cell_type": "code",
   "execution_count": 343,
   "id": "4705f65d-8d07-490f-9074-d23bed0c5981",
   "metadata": {},
   "outputs": [
    {
     "data": {
      "text/plain": [
       "bed               0\n",
       "bath              0\n",
       "acre_lot          0\n",
       "house_size        0\n",
       "state_New York    0\n",
       "dtype: int64"
      ]
     },
     "execution_count": 343,
     "metadata": {},
     "output_type": "execute_result"
    }
   ],
   "source": [
    "\n",
    "prepared_train_x = prepared_data.drop(\"price\",axis=1)\n",
    "prepared_train_y = prepared_data[\"price\"]\n",
    "\n",
    "xnan_count = prepared_train_x.isna().sum()\n",
    "xnan_count"
   ]
  },
  {
   "cell_type": "code",
   "execution_count": 344,
   "id": "b8defdfb-c7df-4e09-9b90-f261670a30b8",
   "metadata": {},
   "outputs": [
    {
     "data": {
      "text/plain": [
       "0          645000.0\n",
       "1        11950000.0\n",
       "2         2590000.0\n",
       "3          623000.0\n",
       "4          934999.0\n",
       "            ...    \n",
       "35653    11995000.0\n",
       "35654     2495000.0\n",
       "35655      599987.0\n",
       "35656      999999.0\n",
       "35657      660000.0\n",
       "Name: price, Length: 35658, dtype: float64"
      ]
     },
     "execution_count": 344,
     "metadata": {},
     "output_type": "execute_result"
    }
   ],
   "source": [
    "prepared_train_y"
   ]
  },
  {
   "cell_type": "code",
   "execution_count": 345,
   "id": "2cf3df39-52bb-4aa4-a6e0-36a9e3145679",
   "metadata": {},
   "outputs": [
    {
     "data": {
      "text/plain": [
       "0"
      ]
     },
     "execution_count": 345,
     "metadata": {},
     "output_type": "execute_result"
    }
   ],
   "source": [
    "ynan_count = prepared_train_y.isna().sum()\n",
    "ynan_count"
   ]
  },
  {
   "cell_type": "markdown",
   "id": "0b994595-e34c-493d-9068-8a30751c05b3",
   "metadata": {},
   "source": [
    "Evaluate x_train for normalization"
   ]
  },
  {
   "cell_type": "code",
   "execution_count": 346,
   "id": "3b261d80-6e48-4e2c-89f0-88211771ee31",
   "metadata": {},
   "outputs": [
    {
     "data": {
      "text/html": [
       "<div>\n",
       "<style scoped>\n",
       "    .dataframe tbody tr th:only-of-type {\n",
       "        vertical-align: middle;\n",
       "    }\n",
       "\n",
       "    .dataframe tbody tr th {\n",
       "        vertical-align: top;\n",
       "    }\n",
       "\n",
       "    .dataframe thead th {\n",
       "        text-align: right;\n",
       "    }\n",
       "</style>\n",
       "<table border=\"1\" class=\"dataframe\">\n",
       "  <thead>\n",
       "    <tr style=\"text-align: right;\">\n",
       "      <th></th>\n",
       "      <th>bed</th>\n",
       "      <th>bath</th>\n",
       "      <th>acre_lot</th>\n",
       "      <th>house_size</th>\n",
       "      <th>state_New York</th>\n",
       "    </tr>\n",
       "  </thead>\n",
       "  <tbody>\n",
       "    <tr>\n",
       "      <th>count</th>\n",
       "      <td>35658.000000</td>\n",
       "      <td>35658.000000</td>\n",
       "      <td>35658.000000</td>\n",
       "      <td>35658.000000</td>\n",
       "      <td>35658.0</td>\n",
       "    </tr>\n",
       "    <tr>\n",
       "      <th>mean</th>\n",
       "      <td>4.070924</td>\n",
       "      <td>2.950726</td>\n",
       "      <td>3.404521</td>\n",
       "      <td>2299.353665</td>\n",
       "      <td>1.0</td>\n",
       "    </tr>\n",
       "    <tr>\n",
       "      <th>std</th>\n",
       "      <td>2.282215</td>\n",
       "      <td>1.742764</td>\n",
       "      <td>96.835684</td>\n",
       "      <td>1877.313974</td>\n",
       "      <td>0.0</td>\n",
       "    </tr>\n",
       "    <tr>\n",
       "      <th>min</th>\n",
       "      <td>1.000000</td>\n",
       "      <td>1.000000</td>\n",
       "      <td>0.000000</td>\n",
       "      <td>122.000000</td>\n",
       "      <td>1.0</td>\n",
       "    </tr>\n",
       "    <tr>\n",
       "      <th>25%</th>\n",
       "      <td>3.000000</td>\n",
       "      <td>2.000000</td>\n",
       "      <td>0.050000</td>\n",
       "      <td>1308.000000</td>\n",
       "      <td>1.0</td>\n",
       "    </tr>\n",
       "    <tr>\n",
       "      <th>50%</th>\n",
       "      <td>4.000000</td>\n",
       "      <td>3.000000</td>\n",
       "      <td>0.070000</td>\n",
       "      <td>1900.000000</td>\n",
       "      <td>1.0</td>\n",
       "    </tr>\n",
       "    <tr>\n",
       "      <th>75%</th>\n",
       "      <td>5.000000</td>\n",
       "      <td>4.000000</td>\n",
       "      <td>0.180000</td>\n",
       "      <td>2720.000000</td>\n",
       "      <td>1.0</td>\n",
       "    </tr>\n",
       "    <tr>\n",
       "      <th>max</th>\n",
       "      <td>42.000000</td>\n",
       "      <td>43.000000</td>\n",
       "      <td>6680.000000</td>\n",
       "      <td>40720.000000</td>\n",
       "      <td>1.0</td>\n",
       "    </tr>\n",
       "  </tbody>\n",
       "</table>\n",
       "</div>"
      ],
      "text/plain": [
       "                bed          bath      acre_lot    house_size  state_New York\n",
       "count  35658.000000  35658.000000  35658.000000  35658.000000         35658.0\n",
       "mean       4.070924      2.950726      3.404521   2299.353665             1.0\n",
       "std        2.282215      1.742764     96.835684   1877.313974             0.0\n",
       "min        1.000000      1.000000      0.000000    122.000000             1.0\n",
       "25%        3.000000      2.000000      0.050000   1308.000000             1.0\n",
       "50%        4.000000      3.000000      0.070000   1900.000000             1.0\n",
       "75%        5.000000      4.000000      0.180000   2720.000000             1.0\n",
       "max       42.000000     43.000000   6680.000000  40720.000000             1.0"
      ]
     },
     "execution_count": 346,
     "metadata": {},
     "output_type": "execute_result"
    }
   ],
   "source": [
    "prepared_train_x.describe()"
   ]
  },
  {
   "cell_type": "code",
   "execution_count": 347,
   "id": "31cd3e66-bd20-471c-87fc-d2024ab3d1ca",
   "metadata": {},
   "outputs": [
    {
     "name": "stderr",
     "output_type": "stream",
     "text": [
      "C:\\ML\\env\\Lib\\site-packages\\sklearn\\preprocessing\\_encoders.py:972: FutureWarning: `sparse` was renamed to `sparse_output` in version 1.2 and will be removed in 1.4. `sparse_output` is ignored unless you leave `sparse` to its default value.\n",
      "  warnings.warn(\n"
     ]
    }
   ],
   "source": [
    "housing_test = test_set.copy()\n",
    "prepared_test_data = prepare_data(housing_test)\n",
    "prepared_test_data = ApplyOneHotEncoder(prepared_test_data,'state')\n",
    "\n"
   ]
  },
  {
   "cell_type": "code",
   "execution_count": 348,
   "id": "661976ba-b778-4beb-8143-c810eb1f8754",
   "metadata": {},
   "outputs": [],
   "source": [
    "prepared_test_x = prepared_test_data.drop(\"price\",axis=1)\n",
    "prepared_test_y = prepared_test_data[\"price\"]"
   ]
  },
  {
   "cell_type": "code",
   "execution_count": 349,
   "id": "e2f42d03-5ef5-4577-8506-794aa717bbc2",
   "metadata": {},
   "outputs": [],
   "source": [
    "from sklearn.preprocessing import MinMaxScaler\n",
    "\n",
    "# Define the features to normalize\n",
    "features_to_normalize = [\"acre_lot\", \"house_size\",\"bed\",\"bath\"]\n",
    "\n",
    "# Initialize the Min-Max scaler\n",
    "scaler = MinMaxScaler()\n",
    "\n",
    "# Fit the scaler on the training data and transform it\n",
    "prepared_train_x[features_to_normalize] = scaler.fit_transform(prepared_train_x[features_to_normalize])\n",
    "\n",
    "# Transform the test data using the same scaler\n",
    "prepared_test_x[features_to_normalize] = scaler.transform(prepared_test_x[features_to_normalize])"
   ]
  },
  {
   "cell_type": "code",
   "execution_count": 350,
   "id": "e914eaf7-9c40-4744-b6bb-901a24e7fd74",
   "metadata": {},
   "outputs": [
    {
     "data": {
      "text/html": [
       "<div>\n",
       "<style scoped>\n",
       "    .dataframe tbody tr th:only-of-type {\n",
       "        vertical-align: middle;\n",
       "    }\n",
       "\n",
       "    .dataframe tbody tr th {\n",
       "        vertical-align: top;\n",
       "    }\n",
       "\n",
       "    .dataframe thead th {\n",
       "        text-align: right;\n",
       "    }\n",
       "</style>\n",
       "<table border=\"1\" class=\"dataframe\">\n",
       "  <thead>\n",
       "    <tr style=\"text-align: right;\">\n",
       "      <th></th>\n",
       "      <th>bed</th>\n",
       "      <th>bath</th>\n",
       "      <th>acre_lot</th>\n",
       "      <th>house_size</th>\n",
       "      <th>state_New York</th>\n",
       "    </tr>\n",
       "  </thead>\n",
       "  <tbody>\n",
       "    <tr>\n",
       "      <th>0</th>\n",
       "      <td>0.000000</td>\n",
       "      <td>0.000000</td>\n",
       "      <td>0.000034</td>\n",
       "      <td>0.014089</td>\n",
       "      <td>1.0</td>\n",
       "    </tr>\n",
       "    <tr>\n",
       "      <th>1</th>\n",
       "      <td>0.048780</td>\n",
       "      <td>0.071429</td>\n",
       "      <td>0.000513</td>\n",
       "      <td>0.051653</td>\n",
       "      <td>1.0</td>\n",
       "    </tr>\n",
       "    <tr>\n",
       "      <th>2</th>\n",
       "      <td>0.414634</td>\n",
       "      <td>0.119048</td>\n",
       "      <td>0.000010</td>\n",
       "      <td>0.135598</td>\n",
       "      <td>1.0</td>\n",
       "    </tr>\n",
       "    <tr>\n",
       "      <th>3</th>\n",
       "      <td>0.024390</td>\n",
       "      <td>0.023810</td>\n",
       "      <td>0.000007</td>\n",
       "      <td>0.020568</td>\n",
       "      <td>1.0</td>\n",
       "    </tr>\n",
       "    <tr>\n",
       "      <th>4</th>\n",
       "      <td>0.170732</td>\n",
       "      <td>0.047619</td>\n",
       "      <td>0.000006</td>\n",
       "      <td>0.079610</td>\n",
       "      <td>1.0</td>\n",
       "    </tr>\n",
       "  </tbody>\n",
       "</table>\n",
       "</div>"
      ],
      "text/plain": [
       "        bed      bath  acre_lot  house_size  state_New York\n",
       "0  0.000000  0.000000  0.000034    0.014089             1.0\n",
       "1  0.048780  0.071429  0.000513    0.051653             1.0\n",
       "2  0.414634  0.119048  0.000010    0.135598             1.0\n",
       "3  0.024390  0.023810  0.000007    0.020568             1.0\n",
       "4  0.170732  0.047619  0.000006    0.079610             1.0"
      ]
     },
     "execution_count": 350,
     "metadata": {},
     "output_type": "execute_result"
    }
   ],
   "source": [
    "prepared_train_x.describe()\n",
    "prepared_train_x.head()"
   ]
  },
  {
   "cell_type": "markdown",
   "id": "1e6f33b3-0331-4353-8a7a-f041b3d2cc17",
   "metadata": {},
   "source": [
    "<br>Prev_sold_date (Time series? For now I'll drop but, I may add back in as boolean)"
   ]
  },
  {
   "cell_type": "code",
   "execution_count": 351,
   "id": "975ce446-89ef-4e56-be13-1ff37ebb4744",
   "metadata": {},
   "outputs": [
    {
     "data": {
      "text/html": [
       "<style>#sk-container-id-16 {color: black;}#sk-container-id-16 pre{padding: 0;}#sk-container-id-16 div.sk-toggleable {background-color: white;}#sk-container-id-16 label.sk-toggleable__label {cursor: pointer;display: block;width: 100%;margin-bottom: 0;padding: 0.3em;box-sizing: border-box;text-align: center;}#sk-container-id-16 label.sk-toggleable__label-arrow:before {content: \"▸\";float: left;margin-right: 0.25em;color: #696969;}#sk-container-id-16 label.sk-toggleable__label-arrow:hover:before {color: black;}#sk-container-id-16 div.sk-estimator:hover label.sk-toggleable__label-arrow:before {color: black;}#sk-container-id-16 div.sk-toggleable__content {max-height: 0;max-width: 0;overflow: hidden;text-align: left;background-color: #f0f8ff;}#sk-container-id-16 div.sk-toggleable__content pre {margin: 0.2em;color: black;border-radius: 0.25em;background-color: #f0f8ff;}#sk-container-id-16 input.sk-toggleable__control:checked~div.sk-toggleable__content {max-height: 200px;max-width: 100%;overflow: auto;}#sk-container-id-16 input.sk-toggleable__control:checked~label.sk-toggleable__label-arrow:before {content: \"▾\";}#sk-container-id-16 div.sk-estimator input.sk-toggleable__control:checked~label.sk-toggleable__label {background-color: #d4ebff;}#sk-container-id-16 div.sk-label input.sk-toggleable__control:checked~label.sk-toggleable__label {background-color: #d4ebff;}#sk-container-id-16 input.sk-hidden--visually {border: 0;clip: rect(1px 1px 1px 1px);clip: rect(1px, 1px, 1px, 1px);height: 1px;margin: -1px;overflow: hidden;padding: 0;position: absolute;width: 1px;}#sk-container-id-16 div.sk-estimator {font-family: monospace;background-color: #f0f8ff;border: 1px dotted black;border-radius: 0.25em;box-sizing: border-box;margin-bottom: 0.5em;}#sk-container-id-16 div.sk-estimator:hover {background-color: #d4ebff;}#sk-container-id-16 div.sk-parallel-item::after {content: \"\";width: 100%;border-bottom: 1px solid gray;flex-grow: 1;}#sk-container-id-16 div.sk-label:hover label.sk-toggleable__label {background-color: #d4ebff;}#sk-container-id-16 div.sk-serial::before {content: \"\";position: absolute;border-left: 1px solid gray;box-sizing: border-box;top: 0;bottom: 0;left: 50%;z-index: 0;}#sk-container-id-16 div.sk-serial {display: flex;flex-direction: column;align-items: center;background-color: white;padding-right: 0.2em;padding-left: 0.2em;position: relative;}#sk-container-id-16 div.sk-item {position: relative;z-index: 1;}#sk-container-id-16 div.sk-parallel {display: flex;align-items: stretch;justify-content: center;background-color: white;position: relative;}#sk-container-id-16 div.sk-item::before, #sk-container-id-16 div.sk-parallel-item::before {content: \"\";position: absolute;border-left: 1px solid gray;box-sizing: border-box;top: 0;bottom: 0;left: 50%;z-index: -1;}#sk-container-id-16 div.sk-parallel-item {display: flex;flex-direction: column;z-index: 1;position: relative;background-color: white;}#sk-container-id-16 div.sk-parallel-item:first-child::after {align-self: flex-end;width: 50%;}#sk-container-id-16 div.sk-parallel-item:last-child::after {align-self: flex-start;width: 50%;}#sk-container-id-16 div.sk-parallel-item:only-child::after {width: 0;}#sk-container-id-16 div.sk-dashed-wrapped {border: 1px dashed gray;margin: 0 0.4em 0.5em 0.4em;box-sizing: border-box;padding-bottom: 0.4em;background-color: white;}#sk-container-id-16 div.sk-label label {font-family: monospace;font-weight: bold;display: inline-block;line-height: 1.2em;}#sk-container-id-16 div.sk-label-container {text-align: center;}#sk-container-id-16 div.sk-container {/* jupyter's `normalize.less` sets `[hidden] { display: none; }` but bootstrap.min.css set `[hidden] { display: none !important; }` so we also need the `!important` here to be able to override the default hidden behavior on the sphinx rendered scikit-learn.org. See: https://github.com/scikit-learn/scikit-learn/issues/21755 */display: inline-block !important;position: relative;}#sk-container-id-16 div.sk-text-repr-fallback {display: none;}</style><div id=\"sk-container-id-16\" class=\"sk-top-container\"><div class=\"sk-text-repr-fallback\"><pre>LinearRegression()</pre><b>In a Jupyter environment, please rerun this cell to show the HTML representation or trust the notebook. <br />On GitHub, the HTML representation is unable to render, please try loading this page with nbviewer.org.</b></div><div class=\"sk-container\" hidden><div class=\"sk-item\"><div class=\"sk-estimator sk-toggleable\"><input class=\"sk-toggleable__control sk-hidden--visually\" id=\"sk-estimator-id-16\" type=\"checkbox\" checked><label for=\"sk-estimator-id-16\" class=\"sk-toggleable__label sk-toggleable__label-arrow\">LinearRegression</label><div class=\"sk-toggleable__content\"><pre>LinearRegression()</pre></div></div></div></div></div>"
      ],
      "text/plain": [
       "LinearRegression()"
      ]
     },
     "execution_count": 351,
     "metadata": {},
     "output_type": "execute_result"
    }
   ],
   "source": [
    "from sklearn.linear_model import LinearRegression\n",
    "lin_reg = LinearRegression()\n",
    "lin_reg.fit(prepared_train_x,prepared_train_y)"
   ]
  },
  {
   "cell_type": "code",
   "execution_count": 352,
   "id": "be374941-4c29-4f4b-a334-3e1ee6493e13",
   "metadata": {},
   "outputs": [
    {
     "data": {
      "text/plain": [
       "array([1333839.57074849,  485715.32929458,  465953.35252044, ...,\n",
       "         78245.40054265,  691255.307765  , 2690226.22010238])"
      ]
     },
     "execution_count": 352,
     "metadata": {},
     "output_type": "execute_result"
    }
   ],
   "source": [
    "predictions = lin_reg.predict(prepared_test_x)\n",
    "predictions\n",
    "\n"
   ]
  },
  {
   "cell_type": "code",
   "execution_count": 358,
   "id": "007d6c5c-dca5-402e-a62b-10f1fc10a021",
   "metadata": {},
   "outputs": [
    {
     "name": "stdout",
     "output_type": "stream",
     "text": [
      "mean_squared_error :  2794430.341481883\n",
      "mean_absolute_error :  1002413.78288742\n",
      "mean_absolute_error as a percentage: 64.99%\n"
     ]
    }
   ],
   "source": [
    "from sklearn.metrics import mean_squared_error, mean_absolute_error\n",
    "mae = mean_absolute_error(prepared_test_y, predictions)\n",
    "print('mean_squared_error : ', mean_squared_error(prepared_test_y, predictions, squared = False))\n",
    "print('mean_absolute_error : ', mae)\n",
    "mean_target = prepared_test_y.mean()\n",
    "mae_percentage = (mae / mean_target) * 100\n",
    "print('mean_absolute_error as a percentage: {:.2f}%'.format(mae_percentage))\n"
   ]
  },
  {
   "cell_type": "code",
   "execution_count": 354,
   "id": "a6246f86-8313-4ab8-ac0b-3962a6bf10b2",
   "metadata": {},
   "outputs": [
    {
     "data": {
      "image/png": "[encoded data removed]",
      "text/plain": [
       "<Figure size 1000x600 with 1 Axes>"
      ]
     },
     "metadata": {},
     "output_type": "display_data"
    }
   ],
   "source": [
    "import numpy as np\n",
    "import matplotlib.pyplot as plt\n",
    "\n",
    "# Scatter plot of true values vs. predicted values\n",
    "plt.figure(figsize=(10, 6))\n",
    "plt.scatter(prepared_test_y, predictions, c='blue', alpha=0.5, label='Data Points')\n",
    "plt.title('Linear Regression: True vs. Predicted Values')\n",
    "plt.xlabel('True Values')\n",
    "plt.ylabel('Predicted Values')\n",
    "\n",
    "# Add a regression line\n",
    "regression_line = np.polyfit(prepared_test_y, predictions, 1)\n",
    "plt.plot(prepared_test_y, np.polyval(regression_line, prepared_test_y), color='red', label='Regression Line')\n",
    "\n",
    "plt.legend()\n",
    "plt.grid(True)\n",
    "plt.show()"
   ]
  },
  {
   "cell_type": "code",
   "execution_count": 355,
   "id": "8da7d362-2dc6-4640-9af1-7dffd78bbee6",
   "metadata": {},
   "outputs": [
    {
     "ename": "ValueError",
     "evalue": "x and y must be the same size",
     "output_type": "error",
     "traceback": [
      "\u001b[1;31m---------------------------------------------------------------------------\u001b[0m",
      "\u001b[1;31mValueError\u001b[0m                                Traceback (most recent call last)",
      "Cell \u001b[1;32mIn[355], line 9\u001b[0m\n\u001b[0;32m      4\u001b[0m \u001b[38;5;66;03m# Sample data\u001b[39;00m\n\u001b[0;32m      5\u001b[0m \n\u001b[0;32m      6\u001b[0m \n\u001b[0;32m      7\u001b[0m \u001b[38;5;66;03m# Create a scatter plot for Y1\u001b[39;00m\n\u001b[0;32m      8\u001b[0m plt\u001b[38;5;241m.\u001b[39mfigure(figsize\u001b[38;5;241m=\u001b[39m(\u001b[38;5;241m10\u001b[39m, \u001b[38;5;241m6\u001b[39m))\n\u001b[1;32m----> 9\u001b[0m \u001b[43mplt\u001b[49m\u001b[38;5;241;43m.\u001b[39;49m\u001b[43mscatter\u001b[49m\u001b[43m(\u001b[49m\u001b[43mprepared_test_x\u001b[49m\u001b[43m,\u001b[49m\u001b[43m \u001b[49m\u001b[43mpredictions\u001b[49m\u001b[43m,\u001b[49m\u001b[43m \u001b[49m\u001b[43mc\u001b[49m\u001b[38;5;241;43m=\u001b[39;49m\u001b[38;5;124;43m'\u001b[39;49m\u001b[38;5;124;43mblue\u001b[39;49m\u001b[38;5;124;43m'\u001b[39;49m\u001b[43m,\u001b[49m\u001b[43m \u001b[49m\u001b[43malpha\u001b[49m\u001b[38;5;241;43m=\u001b[39;49m\u001b[38;5;241;43m0.5\u001b[39;49m\u001b[43m,\u001b[49m\u001b[43m \u001b[49m\u001b[43mlabel\u001b[49m\u001b[38;5;241;43m=\u001b[39;49m\u001b[38;5;124;43m'\u001b[39;49m\u001b[38;5;124;43mPrediction\u001b[39;49m\u001b[38;5;124;43m'\u001b[39;49m\u001b[43m)\u001b[49m\n\u001b[0;32m     10\u001b[0m plt\u001b[38;5;241m.\u001b[39mtitle(\u001b[38;5;124m'\u001b[39m\u001b[38;5;124mScatter Plot with Regression Lines\u001b[39m\u001b[38;5;124m'\u001b[39m)\n\u001b[0;32m     11\u001b[0m plt\u001b[38;5;241m.\u001b[39mxlabel(\u001b[38;5;124m'\u001b[39m\u001b[38;5;124mX\u001b[39m\u001b[38;5;124m'\u001b[39m)\n",
      "File \u001b[1;32mC:\\ML\\env\\Lib\\site-packages\\matplotlib\\pyplot.py:2862\u001b[0m, in \u001b[0;36mscatter\u001b[1;34m(x, y, s, c, marker, cmap, norm, vmin, vmax, alpha, linewidths, edgecolors, plotnonfinite, data, **kwargs)\u001b[0m\n\u001b[0;32m   2857\u001b[0m \u001b[38;5;129m@_copy_docstring_and_deprecators\u001b[39m(Axes\u001b[38;5;241m.\u001b[39mscatter)\n\u001b[0;32m   2858\u001b[0m \u001b[38;5;28;01mdef\u001b[39;00m \u001b[38;5;21mscatter\u001b[39m(\n\u001b[0;32m   2859\u001b[0m         x, y, s\u001b[38;5;241m=\u001b[39m\u001b[38;5;28;01mNone\u001b[39;00m, c\u001b[38;5;241m=\u001b[39m\u001b[38;5;28;01mNone\u001b[39;00m, marker\u001b[38;5;241m=\u001b[39m\u001b[38;5;28;01mNone\u001b[39;00m, cmap\u001b[38;5;241m=\u001b[39m\u001b[38;5;28;01mNone\u001b[39;00m, norm\u001b[38;5;241m=\u001b[39m\u001b[38;5;28;01mNone\u001b[39;00m,\n\u001b[0;32m   2860\u001b[0m         vmin\u001b[38;5;241m=\u001b[39m\u001b[38;5;28;01mNone\u001b[39;00m, vmax\u001b[38;5;241m=\u001b[39m\u001b[38;5;28;01mNone\u001b[39;00m, alpha\u001b[38;5;241m=\u001b[39m\u001b[38;5;28;01mNone\u001b[39;00m, linewidths\u001b[38;5;241m=\u001b[39m\u001b[38;5;28;01mNone\u001b[39;00m, \u001b[38;5;241m*\u001b[39m,\n\u001b[0;32m   2861\u001b[0m         edgecolors\u001b[38;5;241m=\u001b[39m\u001b[38;5;28;01mNone\u001b[39;00m, plotnonfinite\u001b[38;5;241m=\u001b[39m\u001b[38;5;28;01mFalse\u001b[39;00m, data\u001b[38;5;241m=\u001b[39m\u001b[38;5;28;01mNone\u001b[39;00m, \u001b[38;5;241m*\u001b[39m\u001b[38;5;241m*\u001b[39mkwargs):\n\u001b[1;32m-> 2862\u001b[0m     __ret \u001b[38;5;241m=\u001b[39m \u001b[43mgca\u001b[49m\u001b[43m(\u001b[49m\u001b[43m)\u001b[49m\u001b[38;5;241;43m.\u001b[39;49m\u001b[43mscatter\u001b[49m\u001b[43m(\u001b[49m\n\u001b[0;32m   2863\u001b[0m \u001b[43m        \u001b[49m\u001b[43mx\u001b[49m\u001b[43m,\u001b[49m\u001b[43m \u001b[49m\u001b[43my\u001b[49m\u001b[43m,\u001b[49m\u001b[43m \u001b[49m\u001b[43ms\u001b[49m\u001b[38;5;241;43m=\u001b[39;49m\u001b[43ms\u001b[49m\u001b[43m,\u001b[49m\u001b[43m \u001b[49m\u001b[43mc\u001b[49m\u001b[38;5;241;43m=\u001b[39;49m\u001b[43mc\u001b[49m\u001b[43m,\u001b[49m\u001b[43m \u001b[49m\u001b[43mmarker\u001b[49m\u001b[38;5;241;43m=\u001b[39;49m\u001b[43mmarker\u001b[49m\u001b[43m,\u001b[49m\u001b[43m \u001b[49m\u001b[43mcmap\u001b[49m\u001b[38;5;241;43m=\u001b[39;49m\u001b[43mcmap\u001b[49m\u001b[43m,\u001b[49m\u001b[43m \u001b[49m\u001b[43mnorm\u001b[49m\u001b[38;5;241;43m=\u001b[39;49m\u001b[43mnorm\u001b[49m\u001b[43m,\u001b[49m\n\u001b[0;32m   2864\u001b[0m \u001b[43m        \u001b[49m\u001b[43mvmin\u001b[49m\u001b[38;5;241;43m=\u001b[39;49m\u001b[43mvmin\u001b[49m\u001b[43m,\u001b[49m\u001b[43m \u001b[49m\u001b[43mvmax\u001b[49m\u001b[38;5;241;43m=\u001b[39;49m\u001b[43mvmax\u001b[49m\u001b[43m,\u001b[49m\u001b[43m \u001b[49m\u001b[43malpha\u001b[49m\u001b[38;5;241;43m=\u001b[39;49m\u001b[43malpha\u001b[49m\u001b[43m,\u001b[49m\u001b[43m \u001b[49m\u001b[43mlinewidths\u001b[49m\u001b[38;5;241;43m=\u001b[39;49m\u001b[43mlinewidths\u001b[49m\u001b[43m,\u001b[49m\n\u001b[0;32m   2865\u001b[0m \u001b[43m        \u001b[49m\u001b[43medgecolors\u001b[49m\u001b[38;5;241;43m=\u001b[39;49m\u001b[43medgecolors\u001b[49m\u001b[43m,\u001b[49m\u001b[43m \u001b[49m\u001b[43mplotnonfinite\u001b[49m\u001b[38;5;241;43m=\u001b[39;49m\u001b[43mplotnonfinite\u001b[49m\u001b[43m,\u001b[49m\n\u001b[0;32m   2866\u001b[0m \u001b[43m        \u001b[49m\u001b[38;5;241;43m*\u001b[39;49m\u001b[38;5;241;43m*\u001b[39;49m\u001b[43m(\u001b[49m\u001b[43m{\u001b[49m\u001b[38;5;124;43m\"\u001b[39;49m\u001b[38;5;124;43mdata\u001b[39;49m\u001b[38;5;124;43m\"\u001b[39;49m\u001b[43m:\u001b[49m\u001b[43m \u001b[49m\u001b[43mdata\u001b[49m\u001b[43m}\u001b[49m\u001b[43m \u001b[49m\u001b[38;5;28;43;01mif\u001b[39;49;00m\u001b[43m \u001b[49m\u001b[43mdata\u001b[49m\u001b[43m \u001b[49m\u001b[38;5;129;43;01mis\u001b[39;49;00m\u001b[43m \u001b[49m\u001b[38;5;129;43;01mnot\u001b[39;49;00m\u001b[43m \u001b[49m\u001b[38;5;28;43;01mNone\u001b[39;49;00m\u001b[43m \u001b[49m\u001b[38;5;28;43;01melse\u001b[39;49;00m\u001b[43m \u001b[49m\u001b[43m{\u001b[49m\u001b[43m}\u001b[49m\u001b[43m)\u001b[49m\u001b[43m,\u001b[49m\u001b[43m \u001b[49m\u001b[38;5;241;43m*\u001b[39;49m\u001b[38;5;241;43m*\u001b[39;49m\u001b[43mkwargs\u001b[49m\u001b[43m)\u001b[49m\n\u001b[0;32m   2867\u001b[0m     sci(__ret)\n\u001b[0;32m   2868\u001b[0m     \u001b[38;5;28;01mreturn\u001b[39;00m __ret\n",
      "File \u001b[1;32mC:\\ML\\env\\Lib\\site-packages\\matplotlib\\__init__.py:1461\u001b[0m, in \u001b[0;36m_preprocess_data.<locals>.inner\u001b[1;34m(ax, data, *args, **kwargs)\u001b[0m\n\u001b[0;32m   1458\u001b[0m \u001b[38;5;129m@functools\u001b[39m\u001b[38;5;241m.\u001b[39mwraps(func)\n\u001b[0;32m   1459\u001b[0m \u001b[38;5;28;01mdef\u001b[39;00m \u001b[38;5;21minner\u001b[39m(ax, \u001b[38;5;241m*\u001b[39margs, data\u001b[38;5;241m=\u001b[39m\u001b[38;5;28;01mNone\u001b[39;00m, \u001b[38;5;241m*\u001b[39m\u001b[38;5;241m*\u001b[39mkwargs):\n\u001b[0;32m   1460\u001b[0m     \u001b[38;5;28;01mif\u001b[39;00m data \u001b[38;5;129;01mis\u001b[39;00m \u001b[38;5;28;01mNone\u001b[39;00m:\n\u001b[1;32m-> 1461\u001b[0m         \u001b[38;5;28;01mreturn\u001b[39;00m \u001b[43mfunc\u001b[49m\u001b[43m(\u001b[49m\u001b[43max\u001b[49m\u001b[43m,\u001b[49m\u001b[43m \u001b[49m\u001b[38;5;241;43m*\u001b[39;49m\u001b[38;5;28;43mmap\u001b[39;49m\u001b[43m(\u001b[49m\u001b[43msanitize_sequence\u001b[49m\u001b[43m,\u001b[49m\u001b[43m \u001b[49m\u001b[43margs\u001b[49m\u001b[43m)\u001b[49m\u001b[43m,\u001b[49m\u001b[43m \u001b[49m\u001b[38;5;241;43m*\u001b[39;49m\u001b[38;5;241;43m*\u001b[39;49m\u001b[43mkwargs\u001b[49m\u001b[43m)\u001b[49m\n\u001b[0;32m   1463\u001b[0m     bound \u001b[38;5;241m=\u001b[39m new_sig\u001b[38;5;241m.\u001b[39mbind(ax, \u001b[38;5;241m*\u001b[39margs, \u001b[38;5;241m*\u001b[39m\u001b[38;5;241m*\u001b[39mkwargs)\n\u001b[0;32m   1464\u001b[0m     auto_label \u001b[38;5;241m=\u001b[39m (bound\u001b[38;5;241m.\u001b[39marguments\u001b[38;5;241m.\u001b[39mget(label_namer)\n\u001b[0;32m   1465\u001b[0m                   \u001b[38;5;129;01mor\u001b[39;00m bound\u001b[38;5;241m.\u001b[39mkwargs\u001b[38;5;241m.\u001b[39mget(label_namer))\n",
      "File \u001b[1;32mC:\\ML\\env\\Lib\\site-packages\\matplotlib\\axes\\_axes.py:4578\u001b[0m, in \u001b[0;36mAxes.scatter\u001b[1;34m(self, x, y, s, c, marker, cmap, norm, vmin, vmax, alpha, linewidths, edgecolors, plotnonfinite, **kwargs)\u001b[0m\n\u001b[0;32m   4576\u001b[0m y \u001b[38;5;241m=\u001b[39m np\u001b[38;5;241m.\u001b[39mma\u001b[38;5;241m.\u001b[39mravel(y)\n\u001b[0;32m   4577\u001b[0m \u001b[38;5;28;01mif\u001b[39;00m x\u001b[38;5;241m.\u001b[39msize \u001b[38;5;241m!=\u001b[39m y\u001b[38;5;241m.\u001b[39msize:\n\u001b[1;32m-> 4578\u001b[0m     \u001b[38;5;28;01mraise\u001b[39;00m \u001b[38;5;167;01mValueError\u001b[39;00m(\u001b[38;5;124m\"\u001b[39m\u001b[38;5;124mx and y must be the same size\u001b[39m\u001b[38;5;124m\"\u001b[39m)\n\u001b[0;32m   4580\u001b[0m \u001b[38;5;28;01mif\u001b[39;00m s \u001b[38;5;129;01mis\u001b[39;00m \u001b[38;5;28;01mNone\u001b[39;00m:\n\u001b[0;32m   4581\u001b[0m     s \u001b[38;5;241m=\u001b[39m (\u001b[38;5;241m20\u001b[39m \u001b[38;5;28;01mif\u001b[39;00m mpl\u001b[38;5;241m.\u001b[39mrcParams[\u001b[38;5;124m'\u001b[39m\u001b[38;5;124m_internal.classic_mode\u001b[39m\u001b[38;5;124m'\u001b[39m] \u001b[38;5;28;01melse\u001b[39;00m\n\u001b[0;32m   4582\u001b[0m          mpl\u001b[38;5;241m.\u001b[39mrcParams[\u001b[38;5;124m'\u001b[39m\u001b[38;5;124mlines.markersize\u001b[39m\u001b[38;5;124m'\u001b[39m] \u001b[38;5;241m*\u001b[39m\u001b[38;5;241m*\u001b[39m \u001b[38;5;241m2.0\u001b[39m)\n",
      "\u001b[1;31mValueError\u001b[0m: x and y must be the same size"
     ]
    },
    {
     "data": {
      "image/png": "[encoded data removed]",
      "text/plain": [
       "<Figure size 1000x600 with 1 Axes>"
      ]
     },
     "metadata": {},
     "output_type": "display_data"
    }
   ],
   "source": [
    "import numpy as np\n",
    "import matplotlib.pyplot as plt\n",
    "\n",
    "# Sample data\n",
    "\n",
    "\n",
    "# Create a scatter plot for Y1\n",
    "plt.figure(figsize=(10, 6))\n",
    "plt.scatter(prepared_test_x, predictions, c='blue', alpha=0.5, label='Prediction')\n",
    "plt.title('Scatter Plot with Regression Lines')\n",
    "plt.xlabel('X')\n",
    "plt.ylabel('Y^')\n",
    "\n",
    "# Add a regression line for Y1\n",
    "regression_line = np.polyfit(prepared_test_y, predictions, 1)\n",
    "plt.plot(prepared_test_y, np.polyval(regression_line, prepared_test_y), color='red', label='Regression Line')\n",
    "\n",
    "# Create a scatter plot for Y2\n",
    "plt.scatter(prepared_test_x, prepared_test_y, c='green', alpha=0.5, label='Actual')\n",
    "\n",
    "\n",
    "plt.legend()\n",
    "plt.grid(True)\n",
    "plt.show()"
   ]
  },
  {
   "cell_type": "code",
   "execution_count": null,
   "id": "ce8e929a-b19e-47f1-9086-748f8af845c5",
   "metadata": {},
   "outputs": [],
   "source": []
  }
 ],
 "metadata": {
  "kernelspec": {
   "display_name": "Python 3 (ipykernel)",
   "language": "python",
   "name": "python3"
  },
  "language_info": {
   "codemirror_mode": {
    "name": "ipython",
    "version": 3
   },
   "file_extension": ".py",
   "mimetype": "text/x-python",
   "name": "python",
   "nbconvert_exporter": "python",
   "pygments_lexer": "ipython3",
   "version": "3.11.2"
  }
 },
 "nbformat": 4,
 "nbformat_minor": 5
}
